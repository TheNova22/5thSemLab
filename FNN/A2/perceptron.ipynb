{
 "cells": [
  {
   "cell_type": "markdown",
   "metadata": {},
   "source": [
    "### Name : Jayant S\n",
    "### USN : 1MS19IS051"
   ]
  },
  {
   "cell_type": "code",
   "execution_count": 1,
   "metadata": {},
   "outputs": [],
   "source": [
    "import numpy as np"
   ]
  },
  {
   "cell_type": "code",
   "execution_count": 2,
   "metadata": {},
   "outputs": [],
   "source": [
    "class Gate:\n",
    "    wts = []\n",
    "    levels = []\n",
    "    theta = 0\n",
    "    def __init__(self, bias,  theta,wts : list, *args):\n",
    "        i = 1\n",
    "        for j in range(len(wts)): wts[j].insert(0,bias[0])\n",
    "        self.wts, self.theta = np.array(wts), theta\n",
    "        for a in args:\n",
    "            arr = a\n",
    "            for j in range(len(arr)): \n",
    "                arr[j].insert(0,bias[i])\n",
    "            self.levels.append(np.array(arr))\n",
    "            i += 1\n",
    "    def answer(self,vals):\n",
    "        sol = []\n",
    "        sol = np.matmul(np.array([1] + vals),self.wts.transpose())\n",
    "        i = 0\n",
    "        while i < len(self.levels):\n",
    "            ans = [1 if x >= 0 else 0 for x in sol]\n",
    "            sol = np.matmul(np.array([1] + ans), self.levels[i].transpose())\n",
    "            i += 1\n",
    "        return 1 if sol[0] >= self.theta else 0"
   ]
  },
  {
   "cell_type": "code",
   "execution_count": 3,
   "metadata": {},
   "outputs": [],
   "source": [
    "vals = [[0,0],[0,1],[1,0],[1,1]]"
   ]
  },
  {
   "cell_type": "code",
   "execution_count": 4,
   "metadata": {},
   "outputs": [
    {
     "name": "stdout",
     "output_type": "stream",
     "text": [
      "NOT of 0 is 1\n",
      "NOT of 1 is 0\n"
     ]
    }
   ],
   "source": [
    "notGate = Gate([1],1,[[-1]])\n",
    "print('NOT of',0,'is',notGate.answer([0]))\n",
    "print('NOT of',1,'is',notGate.answer([1]))"
   ]
  },
  {
   "cell_type": "code",
   "execution_count": 5,
   "metadata": {},
   "outputs": [
    {
     "name": "stdout",
     "output_type": "stream",
     "text": [
      "AND of [0, 0] is 0\n",
      "AND of [0, 1] is 0\n",
      "AND of [1, 0] is 0\n",
      "AND of [1, 1] is 1\n"
     ]
    }
   ],
   "source": [
    "andGate = Gate([-1.5],0,[[1,1]])\n",
    "for v in vals:\n",
    "    print('AND of',v,'is',andGate.answer(v))"
   ]
  },
  {
   "cell_type": "code",
   "execution_count": 6,
   "metadata": {},
   "outputs": [
    {
     "name": "stdout",
     "output_type": "stream",
     "text": [
      "OR of [0, 0] is 0\n",
      "OR of [0, 1] is 1\n",
      "OR of [1, 0] is 1\n",
      "OR of [1, 1] is 1\n"
     ]
    }
   ],
   "source": [
    "orGate = Gate([-0.5],0,[[1,1]])\n",
    "for v in vals:\n",
    "    print('OR of',v,'is',orGate.answer(v))"
   ]
  },
  {
   "cell_type": "code",
   "execution_count": 7,
   "metadata": {},
   "outputs": [
    {
     "name": "stdout",
     "output_type": "stream",
     "text": [
      "NOR of [0, 0] is 1\n",
      "NOR of [0, 1] is 0\n",
      "NOR of [1, 0] is 0\n",
      "NOR of [1, 1] is 0\n"
     ]
    }
   ],
   "source": [
    "norGate = Gate([1],1,[[-1,-1]])\n",
    "for v in vals:\n",
    "    print('NOR of',v,'is',norGate.answer(v))"
   ]
  },
  {
   "cell_type": "code",
   "execution_count": 8,
   "metadata": {},
   "outputs": [
    {
     "name": "stdout",
     "output_type": "stream",
     "text": [
      "NAND of [0, 0] is 1\n",
      "NAND of [0, 1] is 1\n",
      "NAND of [1, 0] is 1\n",
      "NAND of [1, 1] is 0\n"
     ]
    }
   ],
   "source": [
    "nandGate = Gate([1],0,[[-1,-1]])\n",
    "for v in vals:\n",
    "    print('NAND of',v,'is',nandGate.answer(v))"
   ]
  },
  {
   "cell_type": "code",
   "execution_count": 9,
   "metadata": {},
   "outputs": [
    {
     "name": "stdout",
     "output_type": "stream",
     "text": [
      "XOR of [0, 0] is 0\n",
      "XOR of [0, 1] is 1\n",
      "XOR of [1, 0] is 1\n",
      "XOR of [1, 1] is 0\n"
     ]
    }
   ],
   "source": [
    "xorGate = Gate([-0.5,-0.5],0,[[1,-1],[-1,1]],[[1,1]])\n",
    "for v in vals:\n",
    "    print('XOR of',v,'is',xorGate.answer(v))"
   ]
  }
 ],
 "metadata": {
  "interpreter": {
   "hash": "949777d72b0d2535278d3dc13498b2535136f6dfe0678499012e853ee9abcab1"
  },
  "kernelspec": {
   "display_name": "Python 3.9.7 64-bit",
   "name": "python3"
  },
  "language_info": {
   "codemirror_mode": {
    "name": "ipython",
    "version": 3
   },
   "file_extension": ".py",
   "mimetype": "text/x-python",
   "name": "python",
   "nbconvert_exporter": "python",
   "pygments_lexer": "ipython3",
   "version": "3.9.7"
  },
  "orig_nbformat": 4
 },
 "nbformat": 4,
 "nbformat_minor": 2
}
