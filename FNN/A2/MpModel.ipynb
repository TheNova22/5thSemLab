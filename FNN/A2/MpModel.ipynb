{
 "cells": [
  {
   "cell_type": "code",
   "execution_count": 3,
   "metadata": {},
   "outputs": [],
   "source": [
    "class Gate:\n",
    "    theta = 0\n",
    "    ws = []\n",
    "    ps = []\n",
    "    def __init__(self,w , p, theta):\n",
    "        self.ws, self.ps, self.theta =  w , p , theta\n",
    "    def reality(self,ip):\n",
    "        val = 0\n",
    "        i = 0\n",
    "        while i < len(self.ws):\n",
    "            val += ip[i] * self.ws[i]\n",
    "            i += 1\n",
    "        j = 0\n",
    "        while j < len(self.ps) and i < len(ip):\n",
    "            val -= ip[i] * self.ps[j]\n",
    "            i += 1\n",
    "            j += 1\n",
    "        return 1 if val >= self.theta else 0"
   ]
  },
  {
   "cell_type": "code",
   "execution_count": 4,
   "metadata": {},
   "outputs": [
    {
     "name": "stdout",
     "output_type": "stream",
     "text": [
      "Not of 0 is 1\n",
      "Not of 1 is 0\n"
     ]
    }
   ],
   "source": [
    "notGate = Gate([],[1],0)\n",
    "def notIt(val):\n",
    "    return notGate.reality([val])\n",
    "print('Not of 0 is',notIt(0))\n",
    "print('Not of 1 is', notIt(1))\n"
   ]
  },
  {
   "cell_type": "code",
   "execution_count": 5,
   "metadata": {},
   "outputs": [],
   "source": [
    "vals = [[0,0],[0,1],[1,0],[1,1]]"
   ]
  },
  {
   "cell_type": "code",
   "execution_count": 6,
   "metadata": {},
   "outputs": [
    {
     "name": "stdout",
     "output_type": "stream",
     "text": [
      "AND of [0, 0] is 0\n",
      "AND of [0, 1] is 0\n",
      "AND of [1, 0] is 0\n",
      "AND of [1, 1] is 1\n"
     ]
    }
   ],
   "source": [
    "andGate = Gate([1,1],[],2)\n",
    "for v in vals:\n",
    "    print('AND of',v,'is',andGate.reality(v))"
   ]
  },
  {
   "cell_type": "code",
   "execution_count": 7,
   "metadata": {},
   "outputs": [
    {
     "name": "stdout",
     "output_type": "stream",
     "text": [
      "OR of [0, 0] is 0\n",
      "OR of [0, 1] is 1\n",
      "OR of [1, 0] is 1\n",
      "OR of [1, 1] is 1\n"
     ]
    }
   ],
   "source": [
    "orGate = Gate([1,1],[],1)\n",
    "for v in vals:\n",
    "    print('OR of',v,'is',orGate.reality(v))"
   ]
  },
  {
   "cell_type": "code",
   "execution_count": 11,
   "metadata": {},
   "outputs": [
    {
     "name": "stdout",
     "output_type": "stream",
     "text": [
      "NOR of [0, 0] is 1\n",
      "NOR of [0, 1] is 0\n",
      "NOR of [1, 0] is 0\n",
      "NOR of [1, 1] is 0\n"
     ]
    }
   ],
   "source": [
    "norGate = Gate([],[1,1],0)\n",
    "for v in vals:\n",
    "    print('NOR of',v,'is',norGate.reality(v))"
   ]
  },
  {
   "cell_type": "code",
   "execution_count": 12,
   "metadata": {},
   "outputs": [
    {
     "name": "stdout",
     "output_type": "stream",
     "text": [
      "NAND of [0, 0] is 1\n",
      "NAND of [0, 1] is 1\n",
      "NAND of [1, 0] is 1\n",
      "NAND of [1, 1] is 0\n"
     ]
    }
   ],
   "source": [
    "nandGate = Gate([],[1,1],-1)\n",
    "for v in vals:\n",
    "    print('NAND of',v,'is',nandGate.reality(v))"
   ]
  }
 ],
 "metadata": {
  "interpreter": {
   "hash": "949777d72b0d2535278d3dc13498b2535136f6dfe0678499012e853ee9abcab1"
  },
  "kernelspec": {
   "display_name": "Python 3.9.7 64-bit",
   "name": "python3"
  },
  "language_info": {
   "codemirror_mode": {
    "name": "ipython",
    "version": 3
   },
   "file_extension": ".py",
   "mimetype": "text/x-python",
   "name": "python",
   "nbconvert_exporter": "python",
   "pygments_lexer": "ipython3",
   "version": "3.9.7"
  },
  "orig_nbformat": 4
 },
 "nbformat": 4,
 "nbformat_minor": 2
}
